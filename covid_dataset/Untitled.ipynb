{
 "cells": [
  {
   "cell_type": "code",
   "execution_count": null,
   "id": "139b758c-1b59-4103-93c5-af4539774c36",
   "metadata": {},
   "outputs": [],
   "source": []
  }
 ],
 "metadata": {
  "kernelspec": {
   "display_name": "",
   "name": ""
  },
  "language_info": {
   "name": ""
  }
 },
 "nbformat": 4,
 "nbformat_minor": 5
}
