{
 "cells": [
  {
   "cell_type": "code",
   "execution_count": 1,
   "id": "66a4cab1-c904-479c-8804-21641403de8f",
   "metadata": {},
   "outputs": [
    {
     "name": "stdout",
     "output_type": "stream",
     "text": [
      ":: loading settings :: url = jar:file:/Users/i546111/Downloads/tdc/tdc_lakehouse_2024/lakehouse-env/lib/python3.11/site-packages/pyspark/jars/ivy-2.5.1.jar!/org/apache/ivy/core/settings/ivysettings.xml\n"
     ]
    },
    {
     "name": "stderr",
     "output_type": "stream",
     "text": [
      "Ivy Default Cache set to: /Users/i546111/.ivy2/cache\n",
      "The jars for the packages stored in: /Users/i546111/.ivy2/jars\n",
      "io.delta#delta-spark_2.12 added as a dependency\n",
      "com.sap.hana.datalake.files#sap-hdlfs added as a dependency\n",
      ":: resolving dependencies :: org.apache.spark#spark-submit-parent-36b3c88d-72b7-49a9-8328-f1d881b170da;1.0\n",
      "\tconfs: [default]\n",
      "\tfound io.delta#delta-spark_2.12;3.2.0 in local-m2-cache\n",
      "\tfound io.delta#delta-storage;3.2.0 in local-m2-cache\n",
      "\tfound org.antlr#antlr4-runtime;4.9.3 in local-m2-cache\n",
      "\tfound com.sap.hana.datalake.files#sap-hdlfs;3.0.27 in central\n",
      ":: resolution report :: resolve 271ms :: artifacts dl 16ms\n",
      "\t:: modules in use:\n",
      "\tcom.sap.hana.datalake.files#sap-hdlfs;3.0.27 from central in [default]\n",
      "\tio.delta#delta-spark_2.12;3.2.0 from local-m2-cache in [default]\n",
      "\tio.delta#delta-storage;3.2.0 from local-m2-cache in [default]\n",
      "\torg.antlr#antlr4-runtime;4.9.3 from local-m2-cache in [default]\n",
      "\t---------------------------------------------------------------------\n",
      "\t|                  |            modules            ||   artifacts   |\n",
      "\t|       conf       | number| search|dwnlded|evicted|| number|dwnlded|\n",
      "\t---------------------------------------------------------------------\n",
      "\t|      default     |   4   |   0   |   0   |   0   ||   4   |   0   |\n",
      "\t---------------------------------------------------------------------\n",
      ":: retrieving :: org.apache.spark#spark-submit-parent-36b3c88d-72b7-49a9-8328-f1d881b170da\n",
      "\tconfs: [default]\n",
      "\t0 artifacts copied, 4 already retrieved (0kB/16ms)\n",
      "24/12/04 10:40:07 WARN NativeCodeLoader: Unable to load native-hadoop library for your platform... using builtin-java classes where applicable\n",
      "Setting default log level to \"WARN\".\n",
      "To adjust logging level use sc.setLogLevel(newLevel). For SparkR, use setLogLevel(newLevel).\n"
     ]
    }
   ],
   "source": [
    "from pyspark.sql import SparkSession\n",
    "\n",
    "# Create a Spark session\n",
    "spark = SparkSession.builder \\\n",
    "    .appName(\"Getting started with Spark, Delta Lake and HDL Files\") \\\n",
    "    .config(\"spark.jars.packages\", \"io.delta:delta-spark_2.12:3.2.0,com.sap.hana.datalake.files:sap-hdlfs:3.0.27\") \\\n",
    "    .config(\"spark.sql.extensions\", \"io.delta.sql.DeltaSparkSessionExtension\") \\\n",
    "    .config(\"spark.sql.catalog.spark_catalog\", \"org.apache.spark.sql.delta.catalog.DeltaCatalog\") \\\n",
    "    .config(\"spark.hadoop.fs.AbstractFileSystem.hdlfs.impl\", \"com.sap.hana.datalake.files.Hdlfs\") \\\n",
    "    .config(\"spark.hadoop.fs.hdlfs.impl\", \"com.sap.hana.datalake.files.HdlfsFileSystem\") \\\n",
    "    .config(\"spark.hadoop.fs.defaultFS\", \"hdlfs://cfctest-i546111.files.hdl.demo-hc-3-hdl-hc-dev.dev-aws.hanacloud.ondemand.com/\") \\\n",
    "    .config(\"spark.hadoop.fs.hdlfs.ssl.certfile\", \"/Users/i546111/Downloads/tdc/tdc_lakehouse_2024/resources/certificates/client.crt\") \\\n",
    "    .config(\"spark.hadoop.fs.hdlfs.ssl.keyfile\", \"/Users/i546111/Downloads/tdc/tdc_lakehouse_2024/resources/certificates/client.key\") \\\n",
    "    .getOrCreate()"
   ]
  },
  {
   "cell_type": "code",
   "execution_count": 4,
   "id": "cc07c55d-a626-4e03-a597-cac6f0f52cac",
   "metadata": {},
   "outputs": [
    {
     "name": "stderr",
     "output_type": "stream",
     "text": [
      "24/12/04 10:40:55 WARN SparkStringUtils: Truncated the string representation of a plan since it was too large. This behavior can be adjusted by setting 'spark.sql.debug.maxToStringFields'.\n",
      "[Stage 20:==============>                                           (1 + 3) / 4]"
     ]
    },
    {
     "name": "stdout",
     "output_type": "stream",
     "text": [
      "+---+\n",
      "| id|\n",
      "+---+\n",
      "|  2|\n",
      "|  3|\n",
      "|  0|\n",
      "|  1|\n",
      "|  4|\n",
      "+---+\n",
      "\n"
     ]
    },
    {
     "name": "stderr",
     "output_type": "stream",
     "text": [
      "                                                                                "
     ]
    }
   ],
   "source": [
    "deltaTablePath = \"/i546111/sample-delta-table\"\n",
    "\n",
    "data = spark.range(0, 5)\n",
    "data.write.format(\"delta\").mode(\"overwrite\").save(deltaTablePath)"
   ]
  },
  {
   "cell_type": "code",
   "execution_count": 5,
   "id": "8ae568ee-212f-45b1-b4e3-b3b78feebed8",
   "metadata": {},
   "outputs": [
    {
     "name": "stderr",
     "output_type": "stream",
     "text": [
      "[Stage 24:==============>                                           (1 + 3) / 4]"
     ]
    },
    {
     "name": "stdout",
     "output_type": "stream",
     "text": [
      "+---+\n",
      "| id|\n",
      "+---+\n",
      "|  2|\n",
      "|  3|\n",
      "|  0|\n",
      "|  1|\n",
      "|  4|\n",
      "+---+\n",
      "\n"
     ]
    },
    {
     "name": "stderr",
     "output_type": "stream",
     "text": [
      "                                                                                "
     ]
    }
   ],
   "source": [
    "df = spark.read.format(\"delta\").load(deltaTablePath)\n",
    "df.show()"
   ]
  },
  {
   "cell_type": "code",
   "execution_count": null,
   "id": "b29f3256-83d6-41e6-b538-bd93a642706e",
   "metadata": {},
   "outputs": [],
   "source": []
  }
 ],
 "metadata": {
  "kernelspec": {
   "display_name": "Python 3 (ipykernel)",
   "language": "python",
   "name": "python3"
  },
  "language_info": {
   "codemirror_mode": {
    "name": "ipython",
    "version": 3
   },
   "file_extension": ".py",
   "mimetype": "text/x-python",
   "name": "python",
   "nbconvert_exporter": "python",
   "pygments_lexer": "ipython3",
   "version": "3.11.7"
  },
  "vscode": {
   "interpreter": {
    "hash": "8624651ad7845eabcbc004e12efe24a2f5ffba289d2c1e9399a3c879cfad1acc"
   }
  }
 },
 "nbformat": 4,
 "nbformat_minor": 5
}
