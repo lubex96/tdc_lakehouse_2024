{
 "cells": [
  {
   "cell_type": "code",
   "execution_count": 2,
   "id": "66a4cab1-c904-479c-8804-21641403de8f",
   "metadata": {},
   "outputs": [
    {
     "name": "stderr",
     "output_type": "stream",
     "text": [
      "24/11/30 17:32:16 WARN SparkStringUtils: Truncated the string representation of a plan since it was too large. This behavior can be adjusted by setting 'spark.sql.debug.maxToStringFields'.\n",
      "[Stage 11:======================================>                   (2 + 1) / 3]\r"
     ]
    },
    {
     "name": "stdout",
     "output_type": "stream",
     "text": [
      "+---+\n",
      "| id|\n",
      "+---+\n",
      "|  3|\n",
      "|  4|\n",
      "|  1|\n",
      "|  2|\n",
      "|  0|\n",
      "+---+\n",
      "\n"
     ]
    },
    {
     "name": "stderr",
     "output_type": "stream",
     "text": [
      "                                                                                \r"
     ]
    }
   ],
   "source": [
    "from pyspark.sql import SparkSession\n",
    "\n",
    "# Create a Spark session\n",
    "spark = SparkSession.builder \\\n",
    "    .appName(\"Getting started with Spark, Delta Lake and HDL Files\") \\\n",
    "    .config(\"spark.jars.packages\", \"io.delta:delta-spark_2.12:3.2.0,com.sap.hana.datalake.files:sap-hdlfs:3.0.27\") \\\n",
    "    .config(\"spark.sql.extensions\", \"io.delta.sql.DeltaSparkSessionExtension\") \\\n",
    "    .config(\"spark.sql.catalog.spark_catalog\", \"org.apache.spark.sql.delta.catalog.DeltaCatalog\") \\\n",
    "    .config(\"spark.hadoop.fs.AbstractFileSystem.hdlfs.impl\", \"com.sap.hana.datalake.files.Hdlfs\") \\\n",
    "    .config(\"spark.hadoop.fs.hdlfs.impl\", \"com.sap.hana.datalake.files.HdlfsFileSystem\") \\\n",
    "    .config(\"spark.hadoop.fs.defaultFS\", \"<hdlfs-endpoint-url>\") \\\n",
    "    .config(\"spark.hadoop.fs.hdlfs.ssl.certfile\", \"../resources/client.crt\") \\\n",
    "    .config(\"spark.hadoop.fs.hdlfs.ssl.keyfile\", \"../resources/client.key\") \\\n",
    "    .getOrCreate()\n",
    "\n",
    "deltaTablePath = \"/i546111/sample-delta-table\"\n",
    "\n",
    "data = spark.range(0, 5)\n",
    "data.write.format(\"delta\").save(deltaTablePath)\n",
    "\n",
    "df = spark.read.format(\"delta\").load(deltaTablePath)\n",
    "df.show()"
   ]
  },
  {
   "cell_type": "code",
   "execution_count": null,
   "id": "cc07c55d-a626-4e03-a597-cac6f0f52cac",
   "metadata": {},
   "outputs": [],
   "source": []
  }
 ],
 "metadata": {
  "kernelspec": {
   "display_name": "lakehouse-env",
   "language": "python",
   "name": "python3"
  },
  "language_info": {
   "codemirror_mode": {
    "name": "ipython",
    "version": 3
   },
   "file_extension": ".py",
   "mimetype": "text/x-python",
   "name": "python",
   "nbconvert_exporter": "python",
   "pygments_lexer": "ipython3",
   "version": "3.13.0 (main, Oct  7 2024, 05:02:14) [Clang 15.0.0 (clang-1500.1.0.2.5)]"
  },
  "vscode": {
   "interpreter": {
    "hash": "8624651ad7845eabcbc004e12efe24a2f5ffba289d2c1e9399a3c879cfad1acc"
   }
  }
 },
 "nbformat": 4,
 "nbformat_minor": 5
}
