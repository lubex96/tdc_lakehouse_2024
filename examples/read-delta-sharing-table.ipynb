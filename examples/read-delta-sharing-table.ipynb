{
 "cells": [
  {
   "cell_type": "code",
   "execution_count": null,
   "id": "4aacff12-5a37-4a0c-8794-e15b50c1de78",
   "metadata": {},
   "outputs": [],
   "source": [
    "import delta_sharing\n",
    "import matplotlib.pyplot as plt\n",
    "\n",
    "profileFile = \"/path/to/delta-sharing-profile.json\"\n",
    "client = delta_sharing.SharingClient(profileFile)\n"
   ]
  },
  {
   "cell_type": "code",
   "execution_count": null,
   "id": "e94f407c",
   "metadata": {},
   "outputs": [],
   "source": [
    "allShares = client.list_shares()\n",
    "allTables = client.list_all_tables()\n",
    "\n",
    "print(client.list_shares())\n",
    "print(client.list_all_tables())"
   ]
  },
  {
   "cell_type": "code",
   "execution_count": null,
   "id": "dfec3396-14c8-4907-b0b4-308a057037cd",
   "metadata": {},
   "outputs": [],
   "source": [
    "df = delta_sharing.load_as_pandas(f\"{profileFile}#rubens-share-2.test-schema.test-table\")\n",
    "\n",
    "print(df)"
   ]
  },
  {
   "cell_type": "code",
   "execution_count": null,
   "id": "133a5c1e",
   "metadata": {},
   "outputs": [],
   "source": [
    "df.plot()\n",
    "plt.show()"
   ]
  }
 ],
 "metadata": {
  "kernelspec": {
   "display_name": "lakehouse-env",
   "language": "python",
   "name": "python3"
  },
  "language_info": {
   "codemirror_mode": {
    "name": "ipython",
    "version": 3
   },
   "file_extension": ".py",
   "mimetype": "text/x-python",
   "name": "python",
   "nbconvert_exporter": "python",
   "pygments_lexer": "ipython3",
   "version": "3.13.0 (main, Oct  7 2024, 05:02:14) [Clang 15.0.0 (clang-1500.1.0.2.5)]"
  },
  "vscode": {
   "interpreter": {
    "hash": "8624651ad7845eabcbc004e12efe24a2f5ffba289d2c1e9399a3c879cfad1acc"
   }
  }
 },
 "nbformat": 4,
 "nbformat_minor": 5
}
