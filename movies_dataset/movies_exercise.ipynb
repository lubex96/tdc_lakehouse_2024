{
 "cells": [
  {
   "cell_type": "markdown",
   "id": "291fe9e5-eb5a-4b37-9cbc-eb1731f016b1",
   "metadata": {},
   "source": [
    "# 1. Movies Dataset\n",
    "\n",
    "In this notebook, we'll explore the [MovieLens dataset](https://www.kaggle.com/datasets/grouplens/movielens-20m-dataset?select=tag.csv), which contains information about movies and their respective ratings, from 1995 to 2015.\n",
    "\n",
    "Let's initialize some variables and import some necessary packages for our exercise."
   ]
  },
  {
   "cell_type": "markdown",
   "id": "eaa3eefb-77c8-42bb-b14f-b519f4a758c8",
   "metadata": {},
   "source": [
    "### 1.1 Import packages"
   ]
  },
  {
   "cell_type": "code",
   "execution_count": null,
   "id": "096b8e01-7f8f-448e-a2c1-6cdbf821e553",
   "metadata": {},
   "outputs": [],
   "source": [
    "from pyspark.sql import SparkSession\n",
    "from pyspark.sql.functions import col, avg, count, explode, split, year\n",
    "import seaborn as sns\n",
    "import matplotlib.pyplot as plt"
   ]
  },
  {
   "cell_type": "markdown",
   "id": "4b2cf8e1-971a-4aca-a766-e76ffafeca2d",
   "metadata": {},
   "source": [
    "### 1.2 Create Spark session\n",
    "\n",
    "New spark session will be created, with the necessary Delta libraries."
   ]
  },
  {
   "cell_type": "code",
   "execution_count": null,
   "id": "e1230912-c93f-4cb6-8d8c-930e8a0f2a93",
   "metadata": {},
   "outputs": [],
   "source": [
    "# Initialize Spark session\n",
    "spark = SparkSession.builder.appName(\"Movies\") \\\n",
    "    .config(\"spark.jars.packages\", \"io.delta:delta-spark_2.12:3.2.0\") \\\n",
    "    .config(\"spark.sql.extensions\", \"io.delta.sql.DeltaSparkSessionExtension\") \\\n",
    "    .config(\"spark.sql.catalog.spark_catalog\", \"org.apache.spark.sql.delta.catalog.DeltaCatalog\") \\\n",
    "    .getOrCreate()"
   ]
  },
  {
   "cell_type": "markdown",
   "id": "5ef691d1-1e46-466a-8689-5b8948b21f3c",
   "metadata": {},
   "source": [
    "### 1.3 Notebook variables\n",
    "\n",
    "Variables pointing to the raw CSV dataset used in this notebook - make sure to adjust them if the paths below are wrong."
   ]
  },
  {
   "cell_type": "code",
   "execution_count": null,
   "id": "fa736e2d-f122-4464-81b8-76e91b4f6a65",
   "metadata": {},
   "outputs": [],
   "source": [
    "RATINGS_DATASET_PATH = \"./rating.csv\"\n",
    "MOVIE_DATASET_PATH = \"./movie.csv\""
   ]
  },
  {
   "cell_type": "markdown",
   "id": "d259cad3-596e-4f5a-8f03-6827fcbcd03b",
   "metadata": {},
   "source": [
    "# 2. Working with the dataset\n",
    "\n",
    "We'll create the DataFrames to manipulate the necessary information contained in the raw dataset. They consist of:\n",
    "\n",
    "- **Movies Dataset**: contains movie information, with columns `movieId`, `title` and `genres`.\n",
    "- **Ratings Dataset**: contains ratings of movies by users, with columns `userId`, `movieId`, `rating`, `timestamp`. "
   ]
  },
  {
   "cell_type": "markdown",
   "id": "322068c8-f7fc-48f0-8219-e2ea6d16dd18",
   "metadata": {},
   "source": [
    "### 2.1 Creating the DataFrames"
   ]
  },
  {
   "cell_type": "code",
   "execution_count": null,
   "id": "6ce27364-1c4a-4763-9d8b-8e9acf41d637",
   "metadata": {},
   "outputs": [],
   "source": [
    "# Load ratings dataset\n",
    "ratingsDf = spark.read.csv(RATINGS_DATASET_PATH, header=True, inferSchema=True)\n",
    "# Load movies dataset\n",
    "moviesDf = spark.read.csv(MOVIE_DATASET_PATH, header=True, inferSchema=True)"
   ]
  },
  {
   "cell_type": "code",
   "execution_count": null,
   "id": "c9ce3e81-5e31-48dc-9091-bd90f6ccb413",
   "metadata": {},
   "outputs": [],
   "source": [
    "# Check the first 10 rows in each DataFrame\n",
    "ratingsDf.show(10)\n",
    "moviesDf.show(10)"
   ]
  },
  {
   "cell_type": "markdown",
   "id": "00133651-0991-4ccd-b63b-59a9448dc0c2",
   "metadata": {},
   "source": [
    "## 2.1 Most popular movies\n",
    "\n",
    "Calculate the movies with the highest average rating. We discard movies with less than 100 ratings to avoid considerance movies with less significance in terms of reviews."
   ]
  },
  {
   "cell_type": "code",
   "execution_count": null,
   "id": "d19ce0c5-1cfc-48a7-b38f-26d9d403821a",
   "metadata": {},
   "outputs": [],
   "source": [
    "# Compute average rating and number of ratings for each movie\n",
    "popularMoviesDf = ratingsDf.groupBy(\"movieId\") \\\n",
    "    .agg(avg(\"rating\").alias(\"avg_rating\"), count(\"rating\").alias(\"num_ratings\")) \\\n",
    "    .filter(col(\"num_ratings\") > 100) \\\n",
    "    .join(movies_df, on=\"movieId\") \\\n",
    "    .orderBy(col(\"avg_rating\").desc())\n",
    "\n",
    "# Show the top 10 best rated movies\n",
    "popularMoviesDf.show(10)"
   ]
  },
  {
   "cell_type": "markdown",
   "id": "094f5454-882c-427f-8832-13e4a1bafdb4",
   "metadata": {},
   "source": [
    "## 2.2 Rating by genre\n",
    "\n",
    "We'll conduct an analysis of movies by genre, and (graphically) answer questions like:\n",
    "\n",
    "- What are the best rated genres?\n",
    "- What's the distribution of ratings amongst the best movie categories?\n",
    "- How have the movie genres evolved in the eye of the public through the years?\n",
    "\n",
    "The first manipulation we'll do is extract the individual genres of each movie. As you may have noticed, each movie can have more than one genre - they're separated by the \"|\" character in the `genre` column."
   ]
  },
  {
   "cell_type": "code",
   "execution_count": null,
   "id": "3af352f9-94ef-4f23-8e9a-1bfdf0e4945d",
   "metadata": {},
   "outputs": [],
   "source": [
    "# Split genres into multiple rows. Each movie in moviesDf can have more than one genre, separated by \"|\".\n",
    "# We'll split each \n",
    "genreDf = moviesDf.withColumn(\"genre\", explode(split(col(\"genres\"), \"\\\\|\")))  # Split genres by \"|\"\n",
    "\n",
    "# Join with ratings dataset, so we have the user rating info.\n",
    "genreRatingsDf = ratingsDf.join(genreDf, on=\"movieId\")\n",
    "\n",
    "# Compute average rating per genre\n",
    "avgGenreRatingsDf = genreRatingsDf.groupBy(\"genre\").agg(avg(\"rating\").alias(\"avg_rating\"))\n",
    "\n",
    "# Show the top three best rated genres\n",
    "avgGenreRatingsDf.orderBy(col(\"avg_rating\").desc()).show(3)"
   ]
  },
  {
   "cell_type": "markdown",
   "id": "54b70090-4b51-4a7e-9740-97a947b8b4cd",
   "metadata": {},
   "source": [
    "We'll store the top 3 genres in the Python list `top_3_genres`."
   ]
  },
  {
   "cell_type": "code",
   "execution_count": null,
   "id": "937c1bfb-bec1-4dc1-890e-46575e9366ed",
   "metadata": {},
   "outputs": [],
   "source": [
    "# Store the top 3 most well rated movies\n",
    "top3Genres = [row[\"genre\"] for row in avgGenreRatingsDf.orderBy(col(\"avg_rating\").desc()).select(\"genre\").limit(3).collect()]\n",
    "\n",
    "print(f\"The top-3 best rated genres are: {top3Genres}\")"
   ]
  },
  {
   "cell_type": "markdown",
   "id": "d1139693-e83d-41da-ab3a-b7ba88666b66",
   "metadata": {},
   "source": [
    "Next, we'll create a new DataFrame containing the ratings of the top 3 best rated genres only."
   ]
  },
  {
   "cell_type": "code",
   "execution_count": null,
   "id": "8bc17cf5-5ebb-4c03-bcf8-384742144145",
   "metadata": {},
   "outputs": [],
   "source": [
    "top3GenresMovieRatingsDf = genreRatingsDf.filter(col(\"genre\").isin(top3Genres))\n",
    "\n",
    "print(f\"There are {top3GenresMovieRatingsDf.count()} ratings for the top 3 best genres.\")\n",
    "\n",
    "# Show first 10 user ratings of movies that relate to the top 3 genres.\n",
    "top3GenresMovieRatingsDf.show(10)"
   ]
  },
  {
   "cell_type": "markdown",
   "id": "c9954596-5862-4aad-b26b-e3f078406d7d",
   "metadata": {},
   "source": [
    "### Plotting reviews and distributions of the top 3 genres by year\n",
    "\n",
    "We'll now make use of the plotting libraries `matplotlib`, `seaborn` and the data analysis library `pandas` to visually verify the evolution of ratings amongst the top three best movie categories.\n",
    "\n",
    "First, we convert the Spark DataFrame `top3GenresMovieRatingsDf` to a pandas DataFrame - although the name is identical, they're different classes. It so happens that the pandas DataFrame fits better with the plotting functions of `seaborn` and `matplotlib` that we'll use. In fact, this operation is so often executed that PySpark offers a native function [toPandas()](https://spark.apache.org/docs/latest/api/python/reference/pyspark.sql/api/pyspark.sql.DataFrame.toPandas.html) to convert a PySpark DataFrame to a pandas one.\n",
    "\n",
    "> **WARNING** the command below may take a minute to conclude, since converting to a Pandas DataFrame require a complete iteration through the original Spark DataFrame"
   ]
  },
  {
   "cell_type": "code",
   "execution_count": null,
   "id": "50a73914-05ab-464c-8050-bc73717c28ae",
   "metadata": {},
   "outputs": [],
   "source": [
    "top3GenresMovieRatingsPd = top3GenresMovieRatingsDf.toPandas()"
   ]
  },
  {
   "cell_type": "markdown",
   "id": "c05cc85d-6e32-4136-a2d1-f9e4acbba75a",
   "metadata": {},
   "source": [
    "With the pandas DataFrame at hand, we'll give a shot at checking the statistical distribution of the top-tier categories movie ratings.\n",
    "\n",
    "We'll use the seaborn boxplot function to obtain a visual representation of means, percentiles and outliers."
   ]
  },
  {
   "cell_type": "code",
   "execution_count": null,
   "id": "5db04c02-ef06-4607-bf51-717a61726830",
   "metadata": {},
   "outputs": [],
   "source": [
    "plt.figure(figsize=(12, 6))\n",
    "sns.boxplot(data=top3GenresMovieRatingsPd, x=\"rating\", y=\"genre\")\n",
    "plt.title(\"Distribution of Movie Ratings for Top 3 Most Popular Genres\", fontsize=16)\n",
    "plt.xlabel(\"Rating\", fontsize=12)\n",
    "plt.ylabel(\"Genre\", fontsize=12)\n",
    "plt.grid(axis='y', linestyle='--', alpha=0.7)\n",
    "plt.show()"
   ]
  },
  {
   "cell_type": "markdown",
   "id": "fbd641ac-6761-4fc1-a089-3ad01504048a",
   "metadata": {},
   "source": [
    "That wasn't so visually appealing, right? We clearly see that all of the top 3 genres have a mean rating of 4, and slightly similar upper quartiles (75th percentiles).\n",
    "\n",
    "Let's try to plot more insightful observations - such as how the ratings evolved by year for the top 3 genres.\n",
    "\n",
    "We'll start by deriving the year from the timestamp of the rating - PySpark function `year` helps us with that. Then, we'll group the resulting PySpark DataFrame by year and genre, so that we can compute the yearly information - number of ratings and average rating - by group."
   ]
  },
  {
   "cell_type": "code",
   "execution_count": null,
   "id": "2483dfd7-c78b-4d88-93fe-1d946a09e7f3",
   "metadata": {},
   "outputs": [],
   "source": [
    "# Create a new column \"year\" from the existing \"timestamp\" column.\n",
    "movieReviewsTop3Df = top3GenresMovieRatingsDf.withColumn(\"year\", year(\"timestamp\"))\n",
    "\n",
    "# Compute average rating and total ratings per genre and year\n",
    "top3GenresMovieReviewsByGenreAndYear = movieReviewsTop3Df.groupBy(\"year\", \"genre\") \\\n",
    "    .agg(\n",
    "        avg(\"rating\").alias(\"avg_rating\"),\n",
    "        count(\"rating\").alias(\"num_ratings\")\n",
    "    ) \\\n",
    "    .orderBy(\"year\", \"genre\")"
   ]
  },
  {
   "cell_type": "markdown",
   "id": "9207a2fa-33b8-48eb-8101-6e455b7e7976",
   "metadata": {},
   "source": [
    "We're now ready to plot the information. We'll use seaborn's [scatterplot function](https://seaborn.pydata.org/generated/seaborn.scatterplot.html#seaborn-scatterplot) to construct a scatter plot of movie ratings per year.\n",
    "\n",
    "Again, we'll convert our PySpark DataFrame `movie_reviews_by_genre_and_year` to a pandas DataFrame. Then, we'll use the function `show_scatterplot` that takes in a pandas DataFrame with the necessary columns and creates a scatter plot for the information"
   ]
  },
  {
   "cell_type": "code",
   "execution_count": null,
   "id": "2e945732-4da4-4edb-a2a4-3816b04c1ac9",
   "metadata": {},
   "outputs": [],
   "source": [
    "def show_scatterplot(data, plot_title=\"\"):\n",
    "    # Normalize the bubble size for better visualization\n",
    "    max_size = 700  # Maximum size for bubbles\n",
    "    min_size = 200  # Minimum size for bubbles\n",
    "\n",
    "    # Add a \"size\" dimension to the pandas DataFrame, for aiding the scatterplot function.\n",
    "    data[\"size\"] = ((data[\"num_ratings\"] / data[\"num_ratings\"].max()) * (max_size - min_size) + min_size)\n",
    "    \n",
    "    # Plot the scatterplot\n",
    "    plt.figure(figsize=(16, 8))\n",
    "    sns.scatterplot(\n",
    "        data=data,\n",
    "        x=\"year\",\n",
    "        y=\"avg_rating\",\n",
    "        hue=\"genre\",\n",
    "        size=\"size\",\n",
    "        sizes=(min_size, max_size),  # Minimum and maximum bubble size\n",
    "        palette=\"tab10\",\n",
    "        alpha=0.7\n",
    "    )\n",
    "    \n",
    "    # Set x-axis ticks to be every unique year\n",
    "    unique_years = sorted(data[\"year\"].unique())\n",
    "    plt.xticks(unique_years, rotation=45)  # Rotate labels if needed for better readability\n",
    "    \n",
    "    # Add labels and title\n",
    "    plt.title(plot_title, fontsize=16)\n",
    "    plt.xlabel(\"Year\", fontsize=12)\n",
    "    plt.ylabel(\"Average Rating\", fontsize=12)\n",
    "    plt.legend(bbox_to_anchor=(1.05, 1), loc='upper left', title=\"Genre\")\n",
    "    plt.grid(alpha=0.3)\n",
    "    plt.tight_layout()\n",
    "    plt.show()"
   ]
  },
  {
   "cell_type": "code",
   "execution_count": null,
   "id": "d69c8591-dc8c-4820-976a-d97582dfd461",
   "metadata": {},
   "outputs": [],
   "source": [
    "# Invoke show_scatterplot function with the top-3 best rated genres information\n",
    "show_scatterplot(top3GenresMovieReviewsByGenreAndYear.toPandas(), \"Rating trend for the top-3 best rated movie genres\")"
   ]
  },
  {
   "cell_type": "markdown",
   "id": "66356ac5-b48b-4d9e-829d-fb79998954fb",
   "metadata": {},
   "source": [
    "## Challenge!\n",
    "\n",
    "Try plotting the same graph, but now for the _bottom 3 worst rated_ movie genres - how does it compare with the evolution of the top 3 genres?"
   ]
  },
  {
   "cell_type": "code",
   "execution_count": null,
   "id": "2f11df06-c17b-436c-b55d-86ded74bd467",
   "metadata": {},
   "outputs": [],
   "source": []
  }
 ],
 "metadata": {
  "kernelspec": {
   "display_name": "Python 3 (ipykernel)",
   "language": "python",
   "name": "python3"
  },
  "language_info": {
   "codemirror_mode": {
    "name": "ipython",
    "version": 3
   },
   "file_extension": ".py",
   "mimetype": "text/x-python",
   "name": "python",
   "nbconvert_exporter": "python",
   "pygments_lexer": "ipython3",
   "version": "3.13.0"
  }
 },
 "nbformat": 4,
 "nbformat_minor": 5
}
